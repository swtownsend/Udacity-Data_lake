{
 "cells": [
  {
   "cell_type": "code",
   "execution_count": 1,
   "metadata": {},
   "outputs": [
    {
     "data": {
      "application/vnd.jupyter.widget-view+json": {
       "model_id": "fa8c632ae9ed4ae49075026a6df1ce2c",
       "version_major": 2,
       "version_minor": 0
      },
      "text/plain": [
       "VBox()"
      ]
     },
     "metadata": {},
     "output_type": "display_data"
    },
    {
     "name": "stdout",
     "output_type": "stream",
     "text": [
      "Starting Spark application\n"
     ]
    },
    {
     "data": {
      "text/html": [
       "<table>\n",
       "<tr><th>ID</th><th>YARN Application ID</th><th>Kind</th><th>State</th><th>Spark UI</th><th>Driver log</th><th>Current session?</th></tr><tr><td>0</td><td>application_1562809040696_0001</td><td>pyspark</td><td>idle</td><td><a target=\"_blank\" href=\"http://ip-172-31-0-65.us-east-2.compute.internal:20888/proxy/application_1562809040696_0001/\">Link</a></td><td><a target=\"_blank\" href=\"http://ip-172-31-7-96.us-east-2.compute.internal:8042/node/containerlogs/container_1562809040696_0001_01_000001/livy\">Link</a></td><td>✔</td></tr></table>"
      ],
      "text/plain": [
       "<IPython.core.display.HTML object>"
      ]
     },
     "metadata": {},
     "output_type": "display_data"
    },
    {
     "name": "stdout",
     "output_type": "stream",
     "text": [
      "SparkSession available as 'spark'.\n"
     ]
    }
   ],
   "source": [
    "from datetime import datetime\n",
    "import os\n",
    "from pyspark.sql import SparkSession\n",
    "from pyspark.sql.functions import udf, col,monotonically_increasing_id\n",
    "from pyspark.sql.functions import year, month, dayofmonth, hour, weekofyear, date_format\n"
   ]
  },
  {
   "cell_type": "code",
   "execution_count": 2,
   "metadata": {},
   "outputs": [
    {
     "data": {
      "application/vnd.jupyter.widget-view+json": {
       "model_id": "f5590e36f29241d69e692633f034429b",
       "version_major": 2,
       "version_minor": 0
      },
      "text/plain": [
       "VBox()"
      ]
     },
     "metadata": {},
     "output_type": "display_data"
    },
    {
     "name": "stdout",
     "output_type": "stream",
     "text": [
      "<pyspark.sql.session.SparkSession object at 0x7fc36f856e50>"
     ]
    }
   ],
   "source": [
    "spark = SparkSession.builder.config(\"spark.jars.packages\", \"org.apache.hadoop:hadoop-aws:2.7.0\") \\\n",
    "        .getOrCreate()\n",
    "spark"
   ]
  },
  {
   "cell_type": "code",
   "execution_count": 3,
   "metadata": {},
   "outputs": [
    {
     "data": {
      "application/vnd.jupyter.widget-view+json": {
       "model_id": "f11cb90d6b654e58afc3f375fa555a28",
       "version_major": 2,
       "version_minor": 0
      },
      "text/plain": [
       "VBox()"
      ]
     },
     "metadata": {},
     "output_type": "display_data"
    }
   ],
   "source": [
    "input_data = \"s3a://udacity-dend/\"\n",
    "output_data = \"s3://swtown-udacity-datalake/\""
   ]
  },
  {
   "cell_type": "code",
   "execution_count": 10,
   "metadata": {},
   "outputs": [
    {
     "data": {
      "application/vnd.jupyter.widget-view+json": {
       "model_id": "46950755af00468caa2e716b53573b19",
       "version_major": 2,
       "version_minor": 0
      },
      "text/plain": [
       "VBox()"
      ]
     },
     "metadata": {},
     "output_type": "display_data"
    },
    {
     "name": "stdout",
     "output_type": "stream",
     "text": [
      "'s3a://udacity-dend/song_data/*/*/*/*.json'"
     ]
    }
   ],
   "source": [
    "# get filepath to song data file\n",
    "song_data = os.path.join(input_data, \"song_data/*/*/*/*.json\")\n",
    "song_data    "
   ]
  },
  {
   "cell_type": "code",
   "execution_count": 11,
   "metadata": {},
   "outputs": [
    {
     "data": {
      "application/vnd.jupyter.widget-view+json": {
       "model_id": "35099fadbdfd4cd496ab2ffd99c600b2",
       "version_major": 2,
       "version_minor": 0
      },
      "text/plain": [
       "VBox()"
      ]
     },
     "metadata": {},
     "output_type": "display_data"
    },
    {
     "name": "stdout",
     "output_type": "stream",
     "text": [
      "root\n",
      " |-- artist_id: string (nullable = true)\n",
      " |-- artist_latitude: double (nullable = true)\n",
      " |-- artist_location: string (nullable = true)\n",
      " |-- artist_longitude: double (nullable = true)\n",
      " |-- artist_name: string (nullable = true)\n",
      " |-- duration: double (nullable = true)\n",
      " |-- num_songs: long (nullable = true)\n",
      " |-- song_id: string (nullable = true)\n",
      " |-- title: string (nullable = true)\n",
      " |-- year: long (nullable = true)"
     ]
    }
   ],
   "source": [
    "# read song data file\n",
    "song_df = spark.read.json(song_data).dropDuplicates() \n",
    "song_df.printSchema()"
   ]
  },
  {
   "cell_type": "code",
   "execution_count": 12,
   "metadata": {},
   "outputs": [
    {
     "data": {
      "application/vnd.jupyter.widget-view+json": {
       "model_id": "edcba0e66c884e44b0ffde35a7491e35",
       "version_major": 2,
       "version_minor": 0
      },
      "text/plain": [
       "VBox()"
      ]
     },
     "metadata": {},
     "output_type": "display_data"
    },
    {
     "name": "stdout",
     "output_type": "stream",
     "text": [
      "+------------------+----------------------------------------------------------+------------------+----+---------+\n",
      "|song_id           |title                                                     |artist_id         |year|duration |\n",
      "+------------------+----------------------------------------------------------+------------------+----+---------+\n",
      "|SOVIYJY12AF72A4B00|The Dead Next Door (Digitally Remastered 99)              |AR4T2IF1187B9ADBB7|1983|233.22077|\n",
      "|SOVYXYL12AF72A3373|Rebel Yell (1999 Digital Remaster)                        |AR4T2IF1187B9ADBB7|1983|287.92118|\n",
      "|SOEPTVC12A67ADD0DA|To Zucchabar [\"Gladiator\" - Music from the Motion Picture]|ARQ846I1187B9A7083|0   |196.04853|\n",
      "|SOLQYSZ12AB0181F97|Mony Mony (Live)                                          |AR4T2IF1187B9ADBB7|1987|247.53587|\n",
      "|SOVPFJK12A6701CB16|Barcelona - (Friends until the end)                       |AR3TZ691187FB3DBB1|2000|273.44934|\n",
      "+------------------+----------------------------------------------------------+------------------+----+---------+\n",
      "only showing top 5 rows"
     ]
    }
   ],
   "source": [
    "# extract columns to create songs table\n",
    "songs_table = song_df.select('song_id', 'title', 'artist_id', 'year', 'duration')\n",
    "songs_table.show(5, truncate=False)"
   ]
  },
  {
   "cell_type": "code",
   "execution_count": 7,
   "metadata": {},
   "outputs": [
    {
     "data": {
      "application/vnd.jupyter.widget-view+json": {
       "model_id": "6051b0f2c5a84fca94963bb078f3d780",
       "version_major": 2,
       "version_minor": 0
      },
      "text/plain": [
       "VBox()"
      ]
     },
     "metadata": {},
     "output_type": "display_data"
    }
   ],
   "source": [
    "# write songs table to parquet files partitioned by year and artist\n",
    "#songs_table.sort('year','artist_id').write.parquet('s3://swtown-udacity-datalake/songs/')\n",
    "songs_table.write.partitionBy('year','artist_id').parquet(f'{output_data}songs_table', mode='overwrite')"
   ]
  },
  {
   "cell_type": "code",
   "execution_count": 8,
   "metadata": {},
   "outputs": [
    {
     "data": {
      "application/vnd.jupyter.widget-view+json": {
       "model_id": "fa0a7b50d92d4aa2bdf56404ba251559",
       "version_major": 2,
       "version_minor": 0
      },
      "text/plain": [
       "VBox()"
      ]
     },
     "metadata": {},
     "output_type": "display_data"
    },
    {
     "name": "stdout",
     "output_type": "stream",
     "text": [
      "root\n",
      " |-- artist_id: string (nullable = true)\n",
      " |-- name: string (nullable = true)\n",
      " |-- location: string (nullable = true)\n",
      " |-- lattitude: double (nullable = true)\n",
      " |-- longitude: double (nullable = true)"
     ]
    }
   ],
   "source": [
    "# extract columns to create artists table\n",
    "artists_table = song_df.select('artist_id', 'artist_name', 'artist_location', 'artist_latitude', 'artist_longitude') \n",
    "artists_table = artists_table.toDF('artist_id', 'name', 'location', 'lattitude','longitude')\n",
    "artists_table.printSchema()"
   ]
  },
  {
   "cell_type": "code",
   "execution_count": 9,
   "metadata": {},
   "outputs": [
    {
     "data": {
      "application/vnd.jupyter.widget-view+json": {
       "model_id": "559c8c179a9b4abc9c446bb5347fe3a8",
       "version_major": 2,
       "version_minor": 0
      },
      "text/plain": [
       "VBox()"
      ]
     },
     "metadata": {},
     "output_type": "display_data"
    }
   ],
   "source": [
    "# write artists table to parquet files\n",
    "artists_table.write.parquet(f'{output_data}artists_table', mode='overwrite')"
   ]
  },
  {
   "cell_type": "code",
   "execution_count": 12,
   "metadata": {},
   "outputs": [
    {
     "data": {
      "application/vnd.jupyter.widget-view+json": {
       "model_id": "4e68def196ee49f2a62955830a894aa3",
       "version_major": 2,
       "version_minor": 0
      },
      "text/plain": [
       "VBox()"
      ]
     },
     "metadata": {},
     "output_type": "display_data"
    }
   ],
   "source": [
    "# get filepath to log data file\n",
    "log_data = os.path.join(input_data, \"log_data/*/*/*.json\")"
   ]
  },
  {
   "cell_type": "code",
   "execution_count": 13,
   "metadata": {},
   "outputs": [
    {
     "data": {
      "application/vnd.jupyter.widget-view+json": {
       "model_id": "287a2c78a2d549c787163e0a6f53b14b",
       "version_major": 2,
       "version_minor": 0
      },
      "text/plain": [
       "VBox()"
      ]
     },
     "metadata": {},
     "output_type": "display_data"
    },
    {
     "name": "stdout",
     "output_type": "stream",
     "text": [
      "root\n",
      " |-- artist: string (nullable = true)\n",
      " |-- auth: string (nullable = true)\n",
      " |-- firstName: string (nullable = true)\n",
      " |-- gender: string (nullable = true)\n",
      " |-- itemInSession: long (nullable = true)\n",
      " |-- lastName: string (nullable = true)\n",
      " |-- length: double (nullable = true)\n",
      " |-- level: string (nullable = true)\n",
      " |-- location: string (nullable = true)\n",
      " |-- method: string (nullable = true)\n",
      " |-- page: string (nullable = true)\n",
      " |-- registration: double (nullable = true)\n",
      " |-- sessionId: long (nullable = true)\n",
      " |-- song: string (nullable = true)\n",
      " |-- status: long (nullable = true)\n",
      " |-- ts: long (nullable = true)\n",
      " |-- userAgent: string (nullable = true)\n",
      " |-- userId: string (nullable = true)\n",
      "\n",
      "+-----------+---------+---------+------+-------------+--------+---------+-----+-------------------------------------+------+--------+-----------------+---------+---------------+------+-------------+-----------------------------------------------------------------------------------------------------------------------------------------+------+\n",
      "|artist     |auth     |firstName|gender|itemInSession|lastName|length   |level|location                             |method|page    |registration     |sessionId|song           |status|ts           |userAgent                                                                                                                                |userId|\n",
      "+-----------+---------+---------+------+-------------+--------+---------+-----+-------------------------------------+------+--------+-----------------+---------+---------------+------+-------------+-----------------------------------------------------------------------------------------------------------------------------------------+------+\n",
      "|Harmonia   |Logged In|Ryan     |M     |0            |Smith   |655.77751|free |San Jose-Sunnyvale-Santa Clara, CA   |PUT   |NextSong|1.541016707796E12|583      |Sehr kosmisch  |200   |1542241826796|\"Mozilla/5.0 (X11; Linux x86_64) AppleWebKit/537.36 (KHTML, like Gecko) Ubuntu Chromium/36.0.1985.125 Chrome/36.0.1985.125 Safari/537.36\"|26    |\n",
      "|The Prodigy|Logged In|Ryan     |M     |1            |Smith   |260.07465|free |San Jose-Sunnyvale-Santa Clara, CA   |PUT   |NextSong|1.541016707796E12|583      |The Big Gundown|200   |1542242481796|\"Mozilla/5.0 (X11; Linux x86_64) AppleWebKit/537.36 (KHTML, like Gecko) Ubuntu Chromium/36.0.1985.125 Chrome/36.0.1985.125 Safari/537.36\"|26    |\n",
      "|Train      |Logged In|Ryan     |M     |2            |Smith   |205.45261|free |San Jose-Sunnyvale-Santa Clara, CA   |PUT   |NextSong|1.541016707796E12|583      |Marry Me       |200   |1542242741796|\"Mozilla/5.0 (X11; Linux x86_64) AppleWebKit/537.36 (KHTML, like Gecko) Ubuntu Chromium/36.0.1985.125 Chrome/36.0.1985.125 Safari/537.36\"|26    |\n",
      "|null       |Logged In|Wyatt    |M     |0            |Scott   |null     |free |Eureka-Arcata-Fortuna, CA            |GET   |Home    |1.540872073796E12|563      |null           |200   |1542247071796|Mozilla/5.0 (Windows NT 6.1; WOW64; Trident/7.0; rv:11.0) like Gecko                                                                     |9     |\n",
      "|null       |Logged In|Austin   |M     |0            |Rosales |null     |free |New York-Newark-Jersey City, NY-NJ-PA|GET   |Home    |1.541059521796E12|521      |null           |200   |1542252577796|Mozilla/5.0 (Windows NT 6.1; rv:31.0) Gecko/20100101 Firefox/31.0                                                                        |12    |\n",
      "+-----------+---------+---------+------+-------------+--------+---------+-----+-------------------------------------+------+--------+-----------------+---------+---------------+------+-------------+-----------------------------------------------------------------------------------------------------------------------------------------+------+\n",
      "only showing top 5 rows"
     ]
    }
   ],
   "source": [
    "# read log data file\n",
    "log_df = spark.read.json(log_data).dropDuplicates() \n",
    "log_df.printSchema()\n",
    "log_df.show(5, truncate=False)"
   ]
  },
  {
   "cell_type": "code",
   "execution_count": 16,
   "metadata": {},
   "outputs": [
    {
     "data": {
      "application/vnd.jupyter.widget-view+json": {
       "model_id": "eddd02666cbf46a9b6a5836fbfed2cd8",
       "version_major": 2,
       "version_minor": 0
      },
      "text/plain": [
       "VBox()"
      ]
     },
     "metadata": {},
     "output_type": "display_data"
    },
    {
     "name": "stdout",
     "output_type": "stream",
     "text": [
      "+-----------+---------+---------+------+-------------+--------+---------+-----+------------------------------------+------+--------+-----------------+---------+----------------------------------------------+------+-------------+-----------------------------------------------------------------------------------------------------------------------------------------+------+\n",
      "|artist     |auth     |firstName|gender|itemInSession|lastName|length   |level|location                            |method|page    |registration     |sessionId|song                                          |status|ts           |userAgent                                                                                                                                |userId|\n",
      "+-----------+---------+---------+------+-------------+--------+---------+-----+------------------------------------+------+--------+-----------------+---------+----------------------------------------------+------+-------------+-----------------------------------------------------------------------------------------------------------------------------------------+------+\n",
      "|Harmonia   |Logged In|Ryan     |M     |0            |Smith   |655.77751|free |San Jose-Sunnyvale-Santa Clara, CA  |PUT   |NextSong|1.541016707796E12|583      |Sehr kosmisch                                 |200   |1542241826796|\"Mozilla/5.0 (X11; Linux x86_64) AppleWebKit/537.36 (KHTML, like Gecko) Ubuntu Chromium/36.0.1985.125 Chrome/36.0.1985.125 Safari/537.36\"|26    |\n",
      "|The Prodigy|Logged In|Ryan     |M     |1            |Smith   |260.07465|free |San Jose-Sunnyvale-Santa Clara, CA  |PUT   |NextSong|1.541016707796E12|583      |The Big Gundown                               |200   |1542242481796|\"Mozilla/5.0 (X11; Linux x86_64) AppleWebKit/537.36 (KHTML, like Gecko) Ubuntu Chromium/36.0.1985.125 Chrome/36.0.1985.125 Safari/537.36\"|26    |\n",
      "|Train      |Logged In|Ryan     |M     |2            |Smith   |205.45261|free |San Jose-Sunnyvale-Santa Clara, CA  |PUT   |NextSong|1.541016707796E12|583      |Marry Me                                      |200   |1542242741796|\"Mozilla/5.0 (X11; Linux x86_64) AppleWebKit/537.36 (KHTML, like Gecko) Ubuntu Chromium/36.0.1985.125 Chrome/36.0.1985.125 Safari/537.36\"|26    |\n",
      "|Sony Wonder|Logged In|Samuel   |M     |0            |Gonzalez|218.06975|free |Houston-The Woodlands-Sugar Land, TX|PUT   |NextSong|1.540492941796E12|597      |Blackbird                                     |200   |1542253449796|\"Mozilla/5.0 (Macintosh; Intel Mac OS X 10_9_4) AppleWebKit/537.77.4 (KHTML, like Gecko) Version/7.0.5 Safari/537.77.4\"                  |61    |\n",
      "|Van Halen  |Logged In|Tegan    |F     |2            |Levine  |289.38404|paid |Portland-South Portland, ME         |PUT   |NextSong|1.540794356796E12|602      |Best Of Both Worlds (Remastered Album Version)|200   |1542260935796|\"Mozilla/5.0 (Macintosh; Intel Mac OS X 10_9_4) AppleWebKit/537.36 (KHTML, like Gecko) Chrome/36.0.1985.143 Safari/537.36\"               |80    |\n",
      "+-----------+---------+---------+------+-------------+--------+---------+-----+------------------------------------+------+--------+-----------------+---------+----------------------------------------------+------+-------------+-----------------------------------------------------------------------------------------------------------------------------------------+------+\n",
      "only showing top 5 rows"
     ]
    }
   ],
   "source": [
    "# filter by actions for song plays\n",
    "log_df = log_df.filter(log_df.page == 'NextSong')\n",
    "log_df.show(5, truncate=False)"
   ]
  },
  {
   "cell_type": "code",
   "execution_count": 17,
   "metadata": {},
   "outputs": [
    {
     "data": {
      "application/vnd.jupyter.widget-view+json": {
       "model_id": "65a36291806649adab770d131831206a",
       "version_major": 2,
       "version_minor": 0
      },
      "text/plain": [
       "VBox()"
      ]
     },
     "metadata": {},
     "output_type": "display_data"
    }
   ],
   "source": [
    "# extract columns for users table    \n",
    "users_table = log_df.select('userId','firstName','lastName','gender','level')  \n",
    "users_table = users_table.toDF('user_id','first_name','last_name','gender','level' ) "
   ]
  },
  {
   "cell_type": "code",
   "execution_count": 18,
   "metadata": {},
   "outputs": [
    {
     "data": {
      "application/vnd.jupyter.widget-view+json": {
       "model_id": "245ed635b6e7417db44c273b2bfc7e41",
       "version_major": 2,
       "version_minor": 0
      },
      "text/plain": [
       "VBox()"
      ]
     },
     "metadata": {},
     "output_type": "display_data"
    }
   ],
   "source": [
    "# write users table to parquet files\n",
    "users_table.write.parquet(f'{output_data}users_table', mode='overwrite')"
   ]
  },
  {
   "cell_type": "code",
   "execution_count": 20,
   "metadata": {},
   "outputs": [
    {
     "data": {
      "application/vnd.jupyter.widget-view+json": {
       "model_id": "c34c80be851b451b93c8ea76a8709266",
       "version_major": 2,
       "version_minor": 0
      },
      "text/plain": [
       "VBox()"
      ]
     },
     "metadata": {},
     "output_type": "display_data"
    }
   ],
   "source": [
    "# create timestamp column from original timestamp column\n",
    "get_datetime = udf(lambda x: str(datetime.fromtimestamp(int(x) / 1000.0)))\n",
    "log_df = log_df.withColumn(\"datetime\", get_datetime(log_df.ts))"
   ]
  },
  {
   "cell_type": "code",
   "execution_count": 22,
   "metadata": {},
   "outputs": [
    {
     "data": {
      "application/vnd.jupyter.widget-view+json": {
       "model_id": "9091465fb8944a659e0dbc43b249ab4e",
       "version_major": 2,
       "version_minor": 0
      },
      "text/plain": [
       "VBox()"
      ]
     },
     "metadata": {},
     "output_type": "display_data"
    }
   ],
   "source": [
    "# create datetime column from original timestamp column\n",
    "get_timestamp = udf(lambda x: str(int(int(x) / 1000)))\n",
    "log_df = log_df.withColumn(\"timestamp\", get_timestamp(log_df.ts))"
   ]
  },
  {
   "cell_type": "code",
   "execution_count": 31,
   "metadata": {},
   "outputs": [
    {
     "data": {
      "application/vnd.jupyter.widget-view+json": {
       "model_id": "d539ddf8b44647fe950ed701c90f37f8",
       "version_major": 2,
       "version_minor": 0
      },
      "text/plain": [
       "VBox()"
      ]
     },
     "metadata": {},
     "output_type": "display_data"
    },
    {
     "name": "stdout",
     "output_type": "stream",
     "text": [
      "+-----------+---------+---------+------+-------------+--------+---------+-----+------------------------------------+------+--------+-----------------+---------+----------------------------------------------+------+-------------+-----------------------------------------------------------------------------------------------------------------------------------------+------+--------------------------+----------+\n",
      "|artist     |auth     |firstName|gender|itemInSession|lastName|length   |level|location                            |method|page    |registration     |sessionId|song                                          |status|ts           |userAgent                                                                                                                                |userId|datetime                  |timestamp |\n",
      "+-----------+---------+---------+------+-------------+--------+---------+-----+------------------------------------+------+--------+-----------------+---------+----------------------------------------------+------+-------------+-----------------------------------------------------------------------------------------------------------------------------------------+------+--------------------------+----------+\n",
      "|Harmonia   |Logged In|Ryan     |M     |0            |Smith   |655.77751|free |San Jose-Sunnyvale-Santa Clara, CA  |PUT   |NextSong|1.541016707796E12|583      |Sehr kosmisch                                 |200   |1542241826796|\"Mozilla/5.0 (X11; Linux x86_64) AppleWebKit/537.36 (KHTML, like Gecko) Ubuntu Chromium/36.0.1985.125 Chrome/36.0.1985.125 Safari/537.36\"|26    |2018-11-15 00:30:26.796000|1542241826|\n",
      "|The Prodigy|Logged In|Ryan     |M     |1            |Smith   |260.07465|free |San Jose-Sunnyvale-Santa Clara, CA  |PUT   |NextSong|1.541016707796E12|583      |The Big Gundown                               |200   |1542242481796|\"Mozilla/5.0 (X11; Linux x86_64) AppleWebKit/537.36 (KHTML, like Gecko) Ubuntu Chromium/36.0.1985.125 Chrome/36.0.1985.125 Safari/537.36\"|26    |2018-11-15 00:41:21.796000|1542242481|\n",
      "|Train      |Logged In|Ryan     |M     |2            |Smith   |205.45261|free |San Jose-Sunnyvale-Santa Clara, CA  |PUT   |NextSong|1.541016707796E12|583      |Marry Me                                      |200   |1542242741796|\"Mozilla/5.0 (X11; Linux x86_64) AppleWebKit/537.36 (KHTML, like Gecko) Ubuntu Chromium/36.0.1985.125 Chrome/36.0.1985.125 Safari/537.36\"|26    |2018-11-15 00:45:41.796000|1542242741|\n",
      "|Sony Wonder|Logged In|Samuel   |M     |0            |Gonzalez|218.06975|free |Houston-The Woodlands-Sugar Land, TX|PUT   |NextSong|1.540492941796E12|597      |Blackbird                                     |200   |1542253449796|\"Mozilla/5.0 (Macintosh; Intel Mac OS X 10_9_4) AppleWebKit/537.77.4 (KHTML, like Gecko) Version/7.0.5 Safari/537.77.4\"                  |61    |2018-11-15 03:44:09.796000|1542253449|\n",
      "|Van Halen  |Logged In|Tegan    |F     |2            |Levine  |289.38404|paid |Portland-South Portland, ME         |PUT   |NextSong|1.540794356796E12|602      |Best Of Both Worlds (Remastered Album Version)|200   |1542260935796|\"Mozilla/5.0 (Macintosh; Intel Mac OS X 10_9_4) AppleWebKit/537.36 (KHTML, like Gecko) Chrome/36.0.1985.143 Safari/537.36\"               |80    |2018-11-15 05:48:55.796000|1542260935|\n",
      "+-----------+---------+---------+------+-------------+--------+---------+-----+------------------------------------+------+--------+-----------------+---------+----------------------------------------------+------+-------------+-----------------------------------------------------------------------------------------------------------------------------------------+------+--------------------------+----------+\n",
      "only showing top 5 rows"
     ]
    }
   ],
   "source": [
    "# extract columns to create time table\n",
    "#start_time, hour, day, week, month, year, weekday\n",
    "\n",
    "log_df.show(5, truncate=False)\n",
    "#date_format('capturetime', 'u').alias('dow_number')"
   ]
  },
  {
   "cell_type": "code",
   "execution_count": 39,
   "metadata": {},
   "outputs": [
    {
     "data": {
      "application/vnd.jupyter.widget-view+json": {
       "model_id": "",
       "version_major": 2,
       "version_minor": 0
      },
      "text/plain": [
       "VBox()"
      ]
     },
     "metadata": {},
     "output_type": "display_data"
    },
    {
     "name": "stdout",
     "output_type": "stream",
     "text": [
      "+----------+----+---+----+-----+----+-------+\n",
      "|timestamp |hour|day|week|month|year|weekday|\n",
      "+----------+----+---+----+-----+----+-------+\n",
      "|1542241826|0   |15 |46  |11   |2018|4      |\n",
      "|1542242481|0   |15 |46  |11   |2018|4      |\n",
      "|1542242741|0   |15 |46  |11   |2018|4      |\n",
      "|1542253449|3   |15 |46  |11   |2018|4      |\n",
      "|1542260935|5   |15 |46  |11   |2018|4      |\n",
      "+----------+----+---+----+-----+----+-------+\n",
      "only showing top 5 rows"
     ]
    }
   ],
   "source": [
    "#year, month, dayofmonth, hour, weekofyear, date_format\n",
    "\n",
    "time_table =  log_df.select(('timestamp')\n",
    "                            ,hour('datetime').alias('hour')\n",
    "                            ,dayofmonth('datetime').alias('day')\n",
    "                            ,weekofyear('datetime').alias('week')\n",
    "                            ,month('datetime').alias('month')\n",
    "                            ,year('datetime').alias('year')\n",
    "                            ,date_format('datetime','u').alias('weekday'))\n",
    "                    \n",
    "time_table.show(5, truncate=False)"
   ]
  },
  {
   "cell_type": "code",
   "execution_count": 40,
   "metadata": {},
   "outputs": [
    {
     "data": {
      "application/vnd.jupyter.widget-view+json": {
       "model_id": "e8ded1588c9942fd8c4a424416e2fd58",
       "version_major": 2,
       "version_minor": 0
      },
      "text/plain": [
       "VBox()"
      ]
     },
     "metadata": {},
     "output_type": "display_data"
    }
   ],
   "source": [
    "# write time table to parquet files partitioned by year and month\n",
    "time_table.write.partitionBy('year','month').parquet(f'{output_data}time_table', mode='overwrite')\n",
    "\n"
   ]
  },
  {
   "cell_type": "code",
   "execution_count": null,
   "metadata": {},
   "outputs": [],
   "source": [
    "# read in song data to use for songplays table\n",
    "#songplay_id, start_time, user_id, level, song_id, artist_id, session_id, location, user_agent\n",
    "song_df = song_df.select('song_id','artist_id','artist_name')"
   ]
  },
  {
   "cell_type": "code",
   "execution_count": 61,
   "metadata": {
    "scrolled": true
   },
   "outputs": [
    {
     "data": {
      "application/vnd.jupyter.widget-view+json": {
       "model_id": "067186ffa8654e29bd664ff90e40bfef",
       "version_major": 2,
       "version_minor": 0
      },
      "text/plain": [
       "VBox()"
      ]
     },
     "metadata": {},
     "output_type": "display_data"
    },
    {
     "name": "stdout",
     "output_type": "stream",
     "text": [
      "+-----------+-------------+------+-----+------------------+------------------+---------+--------------------+--------------------+\n",
      "|songplay_id|           ts|userId|level|           song_id|         artist_id|sessionId|            location|           userAgent|\n",
      "+-----------+-------------+------+-----+------------------+------------------+---------+--------------------+--------------------+\n",
      "|          0|1542300931796|    42| paid|SONRWUU12AF72A4283|ARGE7G11187FB37E05|      404|New York-Newark-J...|\"Mozilla/5.0 (Win...|\n",
      "|          1|1542778219796|    97| paid|SONRWUU12AF72A4283|ARGE7G11187FB37E05|      797|Lansing-East Lans...|\"Mozilla/5.0 (X11...|\n",
      "|          2|1543424091796|    14| free|SOIGHOD12A8C13B5A1|ARY589G1187B9A9F4E|      929|       Red Bluff, CA|Mozilla/5.0 (Wind...|\n",
      "|          3|1541384515796|    44| paid|SONRWUU12AF72A4283|ARGE7G11187FB37E05|      237|Waterloo-Cedar Fa...|Mozilla/5.0 (Maci...|\n",
      "|          4|1543584044796|    43| free|SOXZYWX12A6310ED0C|ARC1IHZ1187FB4E920|      618|San Antonio-New B...|\"Mozilla/5.0 (Win...|\n",
      "+-----------+-------------+------+-----+------------------+------------------+---------+--------------------+--------------------+\n",
      "only showing top 5 rows"
     ]
    }
   ],
   "source": [
    "# extract columns from joined song and log datasets to create songplays table \n",
    "songplays_table = log_df.join(song_df,log_df.artist == song_df.artist_name)\n",
    "\n",
    "songplays_table = songplays_table.withColumn('songplay_id', monotonically_increasing_id())\n",
    "#songplay_id, start_time, user_id, level, song_id, artist_id, session_id, location, user_agent\n",
    "songplays_table = songplays_table.select('songplay_id'\n",
    "                                         ,'ts'\n",
    "                                         ,'userId'\n",
    "                                         ,'level'\n",
    "                                         ,'song_id'\n",
    "                                         ,'artist_id'\n",
    "                                         ,'sessionId'\n",
    "                                         ,'location'\n",
    "                                         ,'userAgent'\n",
    "                                        ,month('datetime').alias('month')\n",
    "                                        ,year('datetime').alias('year')\n",
    "                                        )\n",
    "songplays_table.toDF('songplay_id'\n",
    "                     ,'start_time'\n",
    "                     ,'user_id'\n",
    "                     ,'level'\n",
    "                     ,'song_id'\n",
    "                     ,'artist_id'\n",
    "                     ,'session_id'\n",
    "                     ,'location'\n",
    "                     ,'user_agent'\n",
    "                     ,'month'\n",
    "                     ,'year'\n",
    "                    )\n",
    "\n",
    "songplays_table.show(5)"
   ]
  },
  {
   "cell_type": "code",
   "execution_count": 67,
   "metadata": {},
   "outputs": [
    {
     "data": {
      "application/vnd.jupyter.widget-view+json": {
       "model_id": "4b9c483a5203458cb07b59c293278581",
       "version_major": 2,
       "version_minor": 0
      },
      "text/plain": [
       "VBox()"
      ]
     },
     "metadata": {},
     "output_type": "display_data"
    },
    {
     "name": "stderr",
     "output_type": "stream",
     "text": [
      "'DataFrame' object has no attribute '_get_object_id'\n",
      "Traceback (most recent call last):\n",
      "  File \"/usr/lib/spark/python/lib/pyspark.zip/pyspark/sql/readwriter.py\", line 644, in partitionBy\n",
      "    self._jwrite = self._jwrite.partitionBy(_to_seq(self._spark._sc, cols))\n",
      "  File \"/usr/lib/spark/python/lib/pyspark.zip/pyspark/sql/column.py\", line 66, in _to_seq\n",
      "    return sc._jvm.PythonUtils.toSeq(cols)\n",
      "  File \"/usr/lib/spark/python/lib/py4j-0.10.7-src.zip/py4j/java_gateway.py\", line 1248, in __call__\n",
      "    args_command, temp_args = self._build_args(*args)\n",
      "  File \"/usr/lib/spark/python/lib/py4j-0.10.7-src.zip/py4j/java_gateway.py\", line 1212, in _build_args\n",
      "    (new_args, temp_args) = self._get_args(args)\n",
      "  File \"/usr/lib/spark/python/lib/py4j-0.10.7-src.zip/py4j/java_gateway.py\", line 1199, in _get_args\n",
      "    temp_arg = converter.convert(arg, self.gateway_client)\n",
      "  File \"/usr/lib/spark/python/lib/py4j-0.10.7-src.zip/py4j/java_collections.py\", line 501, in convert\n",
      "    java_list.add(element)\n",
      "  File \"/usr/lib/spark/python/lib/py4j-0.10.7-src.zip/py4j/java_gateway.py\", line 1248, in __call__\n",
      "    args_command, temp_args = self._build_args(*args)\n",
      "  File \"/usr/lib/spark/python/lib/py4j-0.10.7-src.zip/py4j/java_gateway.py\", line 1218, in _build_args\n",
      "    [get_command_part(arg, self.pool) for arg in new_args])\n",
      "  File \"/usr/lib/spark/python/lib/py4j-0.10.7-src.zip/py4j/protocol.py\", line 298, in get_command_part\n",
      "    command_part = REFERENCE_TYPE + parameter._get_object_id()\n",
      "  File \"/usr/lib/spark/python/lib/pyspark.zip/pyspark/sql/dataframe.py\", line 1300, in __getattr__\n",
      "    \"'%s' object has no attribute '%s'\" % (self.__class__.__name__, name))\n",
      "AttributeError: 'DataFrame' object has no attribute '_get_object_id'\n",
      "\n"
     ]
    }
   ],
   "source": [
    "# write songplays table to parquet files partitioned by year and month\n",
    "songplays_table.write.partitionBy('year', 'month').parquet(f'{output_data}songplays_table', mode='overwrite')"
   ]
  },
  {
   "cell_type": "code",
   "execution_count": 58,
   "metadata": {},
   "outputs": [
    {
     "data": {
      "application/vnd.jupyter.widget-view+json": {
       "model_id": "92f88c688ae844acba3849e1c7227c93",
       "version_major": 2,
       "version_minor": 0
      },
      "text/plain": [
       "VBox()"
      ]
     },
     "metadata": {},
     "output_type": "display_data"
    },
    {
     "name": "stdout",
     "output_type": "stream",
     "text": [
      "root\n",
      " |-- songplay_id: long (nullable = true)\n",
      " |-- ts: long (nullable = true)\n",
      " |-- userId: string (nullable = true)\n",
      " |-- level: string (nullable = true)\n",
      " |-- song_id: string (nullable = true)\n",
      " |-- artist_id: string (nullable = true)\n",
      " |-- sessionId: long (nullable = true)\n",
      " |-- location: string (nullable = true)\n",
      " |-- userAgent: string (nullable = true)\n",
      " |-- year: integer (nullable = true)\n",
      " |-- month: integer (nullable = true)"
     ]
    }
   ],
   "source": [
    "df = spark.read.parquet('s3://swtown-udacity-datalake/songplays/')\n",
    "df.printSchema()"
   ]
  },
  {
   "cell_type": "code",
   "execution_count": 66,
   "metadata": {},
   "outputs": [
    {
     "data": {
      "application/vnd.jupyter.widget-view+json": {
       "model_id": "c6abcf4b587e4cef822ba7d2f8f8a630",
       "version_major": 2,
       "version_minor": 0
      },
      "text/plain": [
       "VBox()"
      ]
     },
     "metadata": {},
     "output_type": "display_data"
    },
    {
     "name": "stdout",
     "output_type": "stream",
     "text": [
      "DataFrame[year(datetime): int, month(datetime): int]"
     ]
    }
   ],
   "source": [
    "log_df.select(year('datetime'),month('datetime'))\n"
   ]
  },
  {
   "cell_type": "code",
   "execution_count": null,
   "metadata": {},
   "outputs": [],
   "source": []
  }
 ],
 "metadata": {
  "kernelspec": {
   "display_name": "Python 3",
   "language": "python",
   "name": "python3"
  },
  "language_info": {
   "codemirror_mode": {
    "name": "ipython",
    "version": 3
   },
   "file_extension": ".py",
   "mimetype": "text/x-python",
   "name": "python",
   "nbconvert_exporter": "python",
   "pygments_lexer": "ipython3",
   "version": "3.6.3"
  }
 },
 "nbformat": 4,
 "nbformat_minor": 2
}
